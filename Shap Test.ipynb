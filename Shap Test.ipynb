{
 "cells": [
  {
   "cell_type": "markdown",
   "id": "f51432e5",
   "metadata": {},
   "source": [
    "# Demo rep to issue https://github.com/slundberg/shap/issues/1678"
   ]
  },
  {
   "cell_type": "code",
   "execution_count": 1,
   "id": "cbb905e7",
   "metadata": {},
   "outputs": [
    {
     "name": "stdout",
     "output_type": "stream",
     "text": [
      "shap 0.37.0, torch 1.8.1, numpy 1.19.2, sklearn 0.24.1\n"
     ]
    }
   ],
   "source": [
    "import numpy as np\n",
    "import shap\n",
    "import sklearn\n",
    "from sklearn.datasets import make_regression\n",
    "from sklearn.model_selection import train_test_split\n",
    "import torch\n",
    "\n",
    "input_size = 16\n",
    "np.random.seed(0)\n",
    "torch.random.manual_seed(0)\n",
    "print(f'shap {shap.__version__}, torch {torch.__version__}, numpy {np.__version__}, sklearn {sklearn.__version__}')"
   ]
  },
  {
   "cell_type": "code",
   "execution_count": 2,
   "id": "8831d444",
   "metadata": {},
   "outputs": [
    {
     "name": "stderr",
     "output_type": "stream",
     "text": [
      "Using a non-full backward hook when the forward contains multiple autograd Nodes is deprecated and will be removed in future versions. This hook will be missing some grad_input. Please use register_full_backward_hook to get the documented behavior.\n"
     ]
    },
    {
     "data": {
      "text/plain": [
       "(tensor([ 184.7158,   60.4674,  -58.9145, -146.7091,  205.9765,   23.7587,\n",
       "          207.2591,  129.6265,  198.8885,   35.1432], grad_fn=<SelectBackward>),\n",
       " array([ 149.08664376,   26.62465567,  -60.81331158, -181.06401011,\n",
       "         296.0004769 ,   -3.23394275,  157.46819324,  124.32344535,\n",
       "         206.36434121,  -10.48587956]))"
      ]
     },
     "execution_count": 2,
     "metadata": {},
     "output_type": "execute_result"
    }
   ],
   "source": [
    "# defining a network using torch.nn.functional gives incorrect shap values \n",
    "\n",
    "class FunctionalTestNet(torch.nn.Module):\n",
    "    \n",
    "    def __init__(self):\n",
    "        super().__init__()\n",
    "        self.layer_1 = torch.nn.Linear(input_size, 32)\n",
    "        self.layer_2 = torch.nn.Linear(32, 32)\n",
    "        self.layer_3 = torch.nn.Linear(32, 1)\n",
    "        self.activation = torch.nn.functional.relu\n",
    "\n",
    "\n",
    "    def forward(self, x):\n",
    "        h = self.activation(self.layer_1(x))\n",
    "        h = self.activation(self.layer_2(h))\n",
    "        z = self.layer_3(h)\n",
    "        return z\n",
    "\n",
    "X, y = make_regression(n_samples=100, n_features=input_size, random_state=0, noise=5.0, bias=25)\n",
    "X, y = torch.from_numpy(X.astype(np.float32)), torch.from_numpy(y.reshape(-1, 1).astype(np.float32))\n",
    "X_train, X_test, y_train, y_test = train_test_split(X, y, train_size=64)\n",
    "\n",
    "test_net = FunctionalTestNet()\n",
    "\n",
    "loss_function = torch.nn.MSELoss()\n",
    "optimizer = torch.optim.Adam(test_net.parameters(), lr=0.001)\n",
    "\n",
    "for k in range(5000):\n",
    "    optimizer.zero_grad()\n",
    "    y_pred = test_net(X_train)\n",
    "    loss_value = loss_function(y_pred, y_train)\n",
    "    loss_value.backward()\n",
    "    optimizer.step()\n",
    "    \n",
    "test_net.eval()\n",
    "e = shap.DeepExplainer(test_net, X_train)\n",
    "shap_values = e.shap_values(X_test)\n",
    "\n",
    "# these values should be the same\n",
    "test_net(X_test)[:10, 0], e.expected_value + np.sum(shap_values, axis=1)[:10]"
   ]
  },
  {
   "cell_type": "code",
   "execution_count": 3,
   "id": "72ad5de4",
   "metadata": {},
   "outputs": [
    {
     "data": {
      "text/plain": [
       "(tensor([ 184.8368,   22.0020,  -33.4058, -163.9702,  236.3126,   37.6507,\n",
       "          165.4864,  126.7657,  198.3206,    1.7161], grad_fn=<SelectBackward>),\n",
       " array([ 236.2532976 ,   30.13508737,  -55.09071827, -227.10699379,\n",
       "         468.47905737,   56.87455249,  166.57849157,  207.8778075 ,\n",
       "         310.47865587,   14.46751943]))"
      ]
     },
     "execution_count": 3,
     "metadata": {},
     "output_type": "execute_result"
    }
   ],
   "source": [
    "# Also issues if we use torch.nn.Module, but only instantiate once\n",
    "\n",
    "class ModuleTestNet(torch.nn.Module):\n",
    "    \n",
    "    def __init__(self):\n",
    "        super().__init__()\n",
    "        self.layer_1 = torch.nn.Linear(input_size, 32)\n",
    "        self.layer_2 = torch.nn.Linear(32, 32)\n",
    "        self.layer_3 = torch.nn.Linear(32, 1)\n",
    "        self.activation = torch.nn.ReLU()\n",
    "\n",
    "\n",
    "    def forward(self, x):\n",
    "        h = self.activation(self.layer_1(x))\n",
    "        h = self.activation(self.layer_2(h))\n",
    "        z = self.layer_3(h)\n",
    "        return z\n",
    "    \n",
    "\n",
    "test_net = ModuleTestNet()\n",
    "\n",
    "loss_function = torch.nn.MSELoss()\n",
    "optimizer = torch.optim.Adam(test_net.parameters(), lr=0.001)\n",
    "\n",
    "for k in range(5000):\n",
    "    optimizer.zero_grad()\n",
    "    y_pred = test_net(X_train)\n",
    "    loss_value = loss_function(y_pred, y_train)\n",
    "    loss_value.backward()\n",
    "    optimizer.step()\n",
    "    \n",
    "e = shap.DeepExplainer(test_net, X_train)\n",
    "shap_values = e.shap_values(X_test)\n",
    "\n",
    "test_net(X_test)[:10, 0], e.expected_value + np.sum(shap_values, axis=1)[:10]"
   ]
  },
  {
   "cell_type": "code",
   "execution_count": 4,
   "id": "9cb16f50",
   "metadata": {},
   "outputs": [
    {
     "data": {
      "text/plain": [
       "(tensor([ 231.5638,   40.2309,  -66.5759, -137.0923,  216.4595,   31.5131,\n",
       "          208.5716,  131.9723,  181.8214,   28.3996], grad_fn=<SelectBackward>),\n",
       " array([ 231.56376983,   40.23091358,  -66.57589126, -137.09228539,\n",
       "         216.45952581,   31.51306009,  208.57163727,  131.97229829,\n",
       "         181.82143238,   28.39964405]))"
      ]
     },
     "execution_count": 4,
     "metadata": {},
     "output_type": "execute_result"
    }
   ],
   "source": [
    "# using separate instances for each activation works\n",
    "\n",
    "class WorkingTestNet(torch.nn.Module):\n",
    "    \n",
    "    def __init__(self):\n",
    "        super().__init__()\n",
    "        self.layer_1 = torch.nn.Linear(input_size, 32)\n",
    "        self.layer_2 = torch.nn.Linear(32, 32)\n",
    "        self.layer_3 = torch.nn.Linear(32, 1)\n",
    "        self.activation_1 = torch.nn.ReLU()\n",
    "        self.activation_2 = torch.nn.ReLU()\n",
    "\n",
    "\n",
    "    def forward(self, x):\n",
    "        h = self.activation_1(self.layer_1(x))\n",
    "        h = self.activation_2(self.layer_2(h))\n",
    "        z = self.layer_3(h)\n",
    "        return z\n",
    "\n",
    "\n",
    "test_net = WorkingTestNet()\n",
    "\n",
    "loss_function = torch.nn.MSELoss()\n",
    "optimizer = torch.optim.Adam(test_net.parameters(), lr=0.001)\n",
    "\n",
    "for k in range(5000):\n",
    "    optimizer.zero_grad()\n",
    "    y_pred = test_net(X_train)\n",
    "    loss_value = loss_function(y_pred, y_train)\n",
    "    loss_value.backward()\n",
    "    optimizer.step()\n",
    "    \n",
    "e = shap.DeepExplainer(test_net, X_train)\n",
    "shap_values = e.shap_values(X_test)\n",
    "\n",
    "test_net(X_test)[:10, 0], e.expected_value + np.sum(shap_values, axis=1)[:10]"
   ]
  }
 ],
 "metadata": {
  "kernelspec": {
   "display_name": "Python 3",
   "language": "python",
   "name": "python3"
  },
  "language_info": {
   "codemirror_mode": {
    "name": "ipython",
    "version": 3
   },
   "file_extension": ".py",
   "mimetype": "text/x-python",
   "name": "python",
   "nbconvert_exporter": "python",
   "pygments_lexer": "ipython3",
   "version": "3.8.8"
  }
 },
 "nbformat": 4,
 "nbformat_minor": 5
}
